{
  "metadata": {
    "kernelspec": {
      "name": "python",
      "display_name": "Python (Pyodide)",
      "language": "python"
    },
    "language_info": {
      "codemirror_mode": {
        "name": "python",
        "version": 3
      },
      "file_extension": ".py",
      "mimetype": "text/x-python",
      "name": "python",
      "nbconvert_exporter": "python",
      "pygments_lexer": "ipython3",
      "version": "3.8"
    }
  },
  "nbformat_minor": 4,
  "nbformat": 4,
  "cells": [
    {
      "cell_type": "code",
      "source": "import pandas as pd\nimport numpy as np",
      "metadata": {
        "trusted": true
      },
      "outputs": [],
      "execution_count": 2
    },
    {
      "cell_type": "code",
      "source": "# Normal Random Distribution: np.random.normal(mean, stdev, count)",
      "metadata": {
        "trusted": true
      },
      "outputs": [],
      "execution_count": 32
    },
    {
      "cell_type": "code",
      "source": "# new thoughts on 6/15 mean to show more weight on vartiables with greater variance\n# given variable 1-5: means are -4 -2 0 2 4, \n                    # std are 0.7071 (var 0.5) | 2 (var 1.414) | 2.828 (var 8) | 2 (var 1.414) | 0.7071 (var 0.5), \n                    # true_scores_10k based on these permutations, \n                    # let error be consistent across with mean of 0 and std of 2, \n                    # observed equals true+error \n# descriptive statistics for each ts and os column\n# show correlation matrix between the ts and os per variable\n# stacked 5 columns into single ts_dataframe and os_dataframe\n# descriptive statistics for ts and os stack\n# correlation between ts and os stack",
      "metadata": {
        "trusted": true
      },
      "outputs": [],
      "execution_count": 33
    },
    {
      "cell_type": "code",
      "source": "# creates true scores, errors, and observed scores based on means, std, and count specified above for variable 1\nts1 = np.random.normal(-4, np.sqrt(0.5), 10000)\nes1 = np.random.normal(0, 2, 10000)\nos1 = ts1+es1",
      "metadata": {
        "trusted": true
      },
      "outputs": [],
      "execution_count": 34
    },
    {
      "cell_type": "code",
      "source": "# creates true scores, errors, and observed scores based on means, std, and count specified above for variable 2\nts2 = np.random.normal(-2, 2, 10000)\nes2 = np.random.normal(0, 2, 10000)\nos2 = ts2+es2",
      "metadata": {
        "trusted": true
      },
      "outputs": [],
      "execution_count": 35
    },
    {
      "cell_type": "code",
      "source": "# creates true scores, errors, and observed scores based on means, std, and count specified above for variable 3\nts3 = np.random.normal(0, np.sqrt(8), 10000)\nes3 = np.random.normal(0, 2, 10000)\nos3 = ts3+es3",
      "metadata": {
        "trusted": true
      },
      "outputs": [],
      "execution_count": 36
    },
    {
      "cell_type": "code",
      "source": "# creates true scores, errors, and observed scores based on means, std, and count specified above for variable 4\nts4 = np.random.normal(2, 2, 10000)\nes4 = np.random.normal(0, 2, 10000)\nos4 = ts4+es4",
      "metadata": {
        "trusted": true
      },
      "outputs": [],
      "execution_count": 37
    },
    {
      "cell_type": "code",
      "source": "# creates true scores, errors, and observed scores based on means, std, and count specified above for variable 5\nts5 = np.random.normal(4, np.sqrt(0.5), 10000)\nes5 = np.random.normal(0, 2, 10000)\nos5 = ts5+es5",
      "metadata": {
        "trusted": true
      },
      "outputs": [],
      "execution_count": 38
    },
    {
      "cell_type": "code",
      "source": "# summary stats of ts by variable\nts_dataframe.describe()",
      "metadata": {
        "trusted": true
      },
      "outputs": [
        {
          "execution_count": 39,
          "output_type": "execute_result",
          "data": {
            "text/plain": "                  0             1             2             3             4\ncount  10000.000000  10000.000000  10000.000000  10000.000000  10000.000000\nmean      -4.000335     -2.004184     -0.035892      2.002290      3.991756\nstd        0.694089      2.014622      2.844494      1.997462      0.710619\nmin       -6.904614     -9.462523    -11.562159     -5.825514      1.355144\n25%       -4.460394     -3.364862     -1.928682      0.649150      3.505030\n50%       -3.999708     -2.002874     -0.077203      2.015365      3.993993\n75%       -3.530089     -0.634464      1.924530      3.353428      4.468209\nmax       -1.524884      5.867158     10.942903      8.738468      6.761409",
            "text/html": "<div>\n<style scoped>\n    .dataframe tbody tr th:only-of-type {\n        vertical-align: middle;\n    }\n\n    .dataframe tbody tr th {\n        vertical-align: top;\n    }\n\n    .dataframe thead th {\n        text-align: right;\n    }\n</style>\n<table border=\"1\" class=\"dataframe\">\n  <thead>\n    <tr style=\"text-align: right;\">\n      <th></th>\n      <th>0</th>\n      <th>1</th>\n      <th>2</th>\n      <th>3</th>\n      <th>4</th>\n    </tr>\n  </thead>\n  <tbody>\n    <tr>\n      <th>count</th>\n      <td>10000.000000</td>\n      <td>10000.000000</td>\n      <td>10000.000000</td>\n      <td>10000.000000</td>\n      <td>10000.000000</td>\n    </tr>\n    <tr>\n      <th>mean</th>\n      <td>-4.000335</td>\n      <td>-2.004184</td>\n      <td>-0.035892</td>\n      <td>2.002290</td>\n      <td>3.991756</td>\n    </tr>\n    <tr>\n      <th>std</th>\n      <td>0.694089</td>\n      <td>2.014622</td>\n      <td>2.844494</td>\n      <td>1.997462</td>\n      <td>0.710619</td>\n    </tr>\n    <tr>\n      <th>min</th>\n      <td>-6.904614</td>\n      <td>-9.462523</td>\n      <td>-11.562159</td>\n      <td>-5.825514</td>\n      <td>1.355144</td>\n    </tr>\n    <tr>\n      <th>25%</th>\n      <td>-4.460394</td>\n      <td>-3.364862</td>\n      <td>-1.928682</td>\n      <td>0.649150</td>\n      <td>3.505030</td>\n    </tr>\n    <tr>\n      <th>50%</th>\n      <td>-3.999708</td>\n      <td>-2.002874</td>\n      <td>-0.077203</td>\n      <td>2.015365</td>\n      <td>3.993993</td>\n    </tr>\n    <tr>\n      <th>75%</th>\n      <td>-3.530089</td>\n      <td>-0.634464</td>\n      <td>1.924530</td>\n      <td>3.353428</td>\n      <td>4.468209</td>\n    </tr>\n    <tr>\n      <th>max</th>\n      <td>-1.524884</td>\n      <td>5.867158</td>\n      <td>10.942903</td>\n      <td>8.738468</td>\n      <td>6.761409</td>\n    </tr>\n  </tbody>\n</table>\n</div>"
          },
          "metadata": {}
        }
      ],
      "execution_count": 39
    },
    {
      "cell_type": "code",
      "source": "# summary stats of os by variable\nos_dataframe.describe()",
      "metadata": {
        "trusted": true
      },
      "outputs": [
        {
          "execution_count": 40,
          "output_type": "execute_result",
          "data": {
            "text/plain": "                  0             1             2             3             4\ncount  10000.000000  10000.000000  10000.000000  10000.000000  10000.000000\nmean      -4.016117     -2.006134     -0.026342      1.990562      4.008709\nstd        2.100390      2.820864      3.473449      2.803260      2.132535\nmin      -12.071454    -12.171747    -13.650378     -8.189942     -4.792536\n25%       -5.425277     -3.882151     -2.338081      0.139115      2.564587\n50%       -4.016166     -1.989367     -0.077255      2.005228      4.011041\n75%       -2.602550     -0.113594      2.274489      3.864798      5.431799\nmax        4.253384      8.607262     12.853341     12.791632     11.708943",
            "text/html": "<div>\n<style scoped>\n    .dataframe tbody tr th:only-of-type {\n        vertical-align: middle;\n    }\n\n    .dataframe tbody tr th {\n        vertical-align: top;\n    }\n\n    .dataframe thead th {\n        text-align: right;\n    }\n</style>\n<table border=\"1\" class=\"dataframe\">\n  <thead>\n    <tr style=\"text-align: right;\">\n      <th></th>\n      <th>0</th>\n      <th>1</th>\n      <th>2</th>\n      <th>3</th>\n      <th>4</th>\n    </tr>\n  </thead>\n  <tbody>\n    <tr>\n      <th>count</th>\n      <td>10000.000000</td>\n      <td>10000.000000</td>\n      <td>10000.000000</td>\n      <td>10000.000000</td>\n      <td>10000.000000</td>\n    </tr>\n    <tr>\n      <th>mean</th>\n      <td>-4.016117</td>\n      <td>-2.006134</td>\n      <td>-0.026342</td>\n      <td>1.990562</td>\n      <td>4.008709</td>\n    </tr>\n    <tr>\n      <th>std</th>\n      <td>2.100390</td>\n      <td>2.820864</td>\n      <td>3.473449</td>\n      <td>2.803260</td>\n      <td>2.132535</td>\n    </tr>\n    <tr>\n      <th>min</th>\n      <td>-12.071454</td>\n      <td>-12.171747</td>\n      <td>-13.650378</td>\n      <td>-8.189942</td>\n      <td>-4.792536</td>\n    </tr>\n    <tr>\n      <th>25%</th>\n      <td>-5.425277</td>\n      <td>-3.882151</td>\n      <td>-2.338081</td>\n      <td>0.139115</td>\n      <td>2.564587</td>\n    </tr>\n    <tr>\n      <th>50%</th>\n      <td>-4.016166</td>\n      <td>-1.989367</td>\n      <td>-0.077255</td>\n      <td>2.005228</td>\n      <td>4.011041</td>\n    </tr>\n    <tr>\n      <th>75%</th>\n      <td>-2.602550</td>\n      <td>-0.113594</td>\n      <td>2.274489</td>\n      <td>3.864798</td>\n      <td>5.431799</td>\n    </tr>\n    <tr>\n      <th>max</th>\n      <td>4.253384</td>\n      <td>8.607262</td>\n      <td>12.853341</td>\n      <td>12.791632</td>\n      <td>11.708943</td>\n    </tr>\n  </tbody>\n</table>\n</div>"
          },
          "metadata": {}
        }
      ],
      "execution_count": 40
    },
    {
      "cell_type": "code",
      "source": "# correlate ts to os per variable \nts_dataframe.corrwith(os_dataframe)",
      "metadata": {
        "trusted": true
      },
      "outputs": [
        {
          "execution_count": 41,
          "output_type": "execute_result",
          "data": {
            "text/plain": "0    0.329930\n1    0.700883\n2    0.818591\n3    0.714379\n4    0.321517\ndtype: float64"
          },
          "metadata": {}
        }
      ],
      "execution_count": 41
    },
    {
      "cell_type": "code",
      "source": "",
      "metadata": {
        "trusted": true
      },
      "outputs": [],
      "execution_count": null
    },
    {
      "cell_type": "code",
      "source": "# stack the ts and os columns into single dataframes of 50,000 rows\nts_dataframe = pd.DataFrame([ts1, ts2, ts3, ts4, ts5]).T\nts_stack = ts_dataframe.stack()\nts_stacked_df = ts_stack.to_frame(name='ts_stack')\nts_stacked_df.reset_index(drop=True, inplace=True)\n\nos_dataframe = pd.DataFrame([os1, os2, os3, os4, os5]).T\nos_stack = os_dataframe.stack()\nos_stacked_df = os_stack.to_frame(name='os_stack')\nos_stacked_df.reset_index(drop=True, inplace=True)",
      "metadata": {
        "trusted": true
      },
      "outputs": [],
      "execution_count": 42
    },
    {
      "cell_type": "code",
      "source": "# summary stats of ts stack\nts_stacked_df.describe()",
      "metadata": {
        "trusted": true
      },
      "outputs": [
        {
          "execution_count": 43,
          "output_type": "execute_result",
          "data": {
            "text/plain": "           ts_stack\ncount  50000.000000\nmean      -0.022986\nstd        3.376670\nmin      -10.431709\n25%       -3.274961\n50%       -0.031556\n75%        3.233312\nmax       11.587214",
            "text/html": "<div>\n<style scoped>\n    .dataframe tbody tr th:only-of-type {\n        vertical-align: middle;\n    }\n\n    .dataframe tbody tr th {\n        vertical-align: top;\n    }\n\n    .dataframe thead th {\n        text-align: right;\n    }\n</style>\n<table border=\"1\" class=\"dataframe\">\n  <thead>\n    <tr style=\"text-align: right;\">\n      <th></th>\n      <th>ts_stack</th>\n    </tr>\n  </thead>\n  <tbody>\n    <tr>\n      <th>count</th>\n      <td>50000.000000</td>\n    </tr>\n    <tr>\n      <th>mean</th>\n      <td>-0.022986</td>\n    </tr>\n    <tr>\n      <th>std</th>\n      <td>3.376670</td>\n    </tr>\n    <tr>\n      <th>min</th>\n      <td>-10.431709</td>\n    </tr>\n    <tr>\n      <th>25%</th>\n      <td>-3.274961</td>\n    </tr>\n    <tr>\n      <th>50%</th>\n      <td>-0.031556</td>\n    </tr>\n    <tr>\n      <th>75%</th>\n      <td>3.233312</td>\n    </tr>\n    <tr>\n      <th>max</th>\n      <td>11.587214</td>\n    </tr>\n  </tbody>\n</table>\n</div>"
          },
          "metadata": {}
        }
      ],
      "execution_count": 43
    },
    {
      "cell_type": "code",
      "source": "# summary stats of os stack\nos_stacked_df.describe()",
      "metadata": {
        "trusted": true
      },
      "outputs": [
        {
          "execution_count": 44,
          "output_type": "execute_result",
          "data": {
            "text/plain": "           os_stack\ncount  50000.000000\nmean      -0.026978\nstd        3.914985\nmin      -13.252757\n25%       -3.070064\n50%       -0.023411\n75%        3.053989\nmax       13.500474",
            "text/html": "<div>\n<style scoped>\n    .dataframe tbody tr th:only-of-type {\n        vertical-align: middle;\n    }\n\n    .dataframe tbody tr th {\n        vertical-align: top;\n    }\n\n    .dataframe thead th {\n        text-align: right;\n    }\n</style>\n<table border=\"1\" class=\"dataframe\">\n  <thead>\n    <tr style=\"text-align: right;\">\n      <th></th>\n      <th>os_stack</th>\n    </tr>\n  </thead>\n  <tbody>\n    <tr>\n      <th>count</th>\n      <td>50000.000000</td>\n    </tr>\n    <tr>\n      <th>mean</th>\n      <td>-0.026978</td>\n    </tr>\n    <tr>\n      <th>std</th>\n      <td>3.914985</td>\n    </tr>\n    <tr>\n      <th>min</th>\n      <td>-13.252757</td>\n    </tr>\n    <tr>\n      <th>25%</th>\n      <td>-3.070064</td>\n    </tr>\n    <tr>\n      <th>50%</th>\n      <td>-0.023411</td>\n    </tr>\n    <tr>\n      <th>75%</th>\n      <td>3.053989</td>\n    </tr>\n    <tr>\n      <th>max</th>\n      <td>13.500474</td>\n    </tr>\n  </tbody>\n</table>\n</div>"
          },
          "metadata": {}
        }
      ],
      "execution_count": 44
    },
    {
      "cell_type": "code",
      "source": "# correlate ts stack to os stack\nts_stacked_df['ts_stack'].corr(os_stacked_df['os_stack'])",
      "metadata": {
        "trusted": true
      },
      "outputs": [
        {
          "execution_count": 45,
          "output_type": "execute_result",
          "data": {
            "text/plain": "0.8595335086180901"
          },
          "metadata": {}
        }
      ],
      "execution_count": 45
    },
    {
      "cell_type": "code",
      "source": "",
      "metadata": {
        "trusted": true
      },
      "outputs": [],
      "execution_count": null
    }
  ]
}
